{
 "cells": [
  {
   "cell_type": "markdown",
   "metadata": {},
   "source": [
    "## Music genre classifier "
   ]
  },
  {
   "cell_type": "code",
   "execution_count": 1,
   "metadata": {
    "execution": {
     "iopub.execute_input": "2023-11-08T04:31:18.004464Z",
     "iopub.status.busy": "2023-11-08T04:31:18.002084Z",
     "iopub.status.idle": "2023-11-08T04:31:26.466199Z",
     "shell.execute_reply": "2023-11-08T04:31:26.465272Z",
     "shell.execute_reply.started": "2023-11-08T04:31:18.002644Z"
    }
   },
   "outputs": [],
   "source": [
    "import os\n",
    "import json\n",
    "import numpy as np\n",
    "import librosa\n",
    "import matplotlib.pyplot as plt\n",
    "from sklearn.model_selection import train_test_split\n",
    "import tensorflow as tf"
   ]
  },
  {
   "cell_type": "code",
   "execution_count": 2,
   "metadata": {
    "execution": {
     "iopub.execute_input": "2023-11-08T04:31:26.468553Z",
     "iopub.status.busy": "2023-11-08T04:31:26.468182Z",
     "iopub.status.idle": "2023-11-08T04:31:26.474828Z",
     "shell.execute_reply": "2023-11-08T04:31:26.473528Z",
     "shell.execute_reply.started": "2023-11-08T04:31:26.468519Z"
    }
   },
   "outputs": [],
   "source": [
    "SOURCE_PATH = '/kaggle/input/gtzan-dataset-music-genre-classification/Data/genres_original/'\n",
    "\n",
    "# Path to labels and processed data file, json format.\n",
    "JSON_PATH = '/kaggle/working/data.json'\n",
    "\n",
    "# Sampling rate.\n",
    "sr = 22050\n",
    "\n",
    "# Let's make sure all files have the same amount of samples and pick a duration right under 30 seconds.\n",
    "TOTAL_SAMPLES = 29 * sr\n",
    "\n",
    "# The dataset contains 999 files. Lets make it bigger. \n",
    "# X amount of slices => X times more training examples.\n",
    "NUM_SLICES = 10\n",
    "SAMPLES_PER_SLICE = int(TOTAL_SAMPLES / NUM_SLICES)"
   ]
  },
  {
   "cell_type": "code",
   "execution_count": 3,
   "metadata": {
    "execution": {
     "iopub.execute_input": "2023-11-08T04:31:26.476643Z",
     "iopub.status.busy": "2023-11-08T04:31:26.476309Z",
     "iopub.status.idle": "2023-11-08T04:31:26.489540Z",
     "shell.execute_reply": "2023-11-08T04:31:26.488550Z",
     "shell.execute_reply.started": "2023-11-08T04:31:26.476596Z"
    }
   },
   "outputs": [],
   "source": [
    "def preprocess_data(source_path, json_path):\n",
    "\n",
    "    # Let's create a dictionary of labels and processed data.\n",
    "    mydict = {\n",
    "        \"labels\": [],\n",
    "        \"mfcc\": []\n",
    "        }\n",
    "\n",
    "    # Let's browse each file, slice it and generate the 13 band mfcc for each slice.\n",
    "    for i, (dirpath, dirnames, filenames) in enumerate(os.walk(source_path)):\n",
    "        for file in filenames:\n",
    "            # exclude a corrupted wav file that makes everything crash.\n",
    "            if os.path.join(dirpath, file) != '/kaggle/input/gtzan-dataset-music-genre-classification/Data/genres_original/jazz/jazz.00054.wav':\n",
    "                song, sr = librosa.load(os.path.join(dirpath, file), duration=29)\n",
    "                for s in range(NUM_SLICES):\n",
    "                    start_sample = SAMPLES_PER_SLICE * s\n",
    "                    end_sample = start_sample + SAMPLES_PER_SLICE\n",
    "                    mfcc = librosa.feature.mfcc(y=song[start_sample:end_sample], sr=sr, n_mfcc=13)\n",
    "                    mfcc = mfcc.T\n",
    "                    mydict[\"labels\"].append(i-1)\n",
    "                    mydict[\"mfcc\"].append(mfcc.tolist())\n",
    "            else:\n",
    "                pass\n",
    "\n",
    "    # Let's write the dictionary in a json file.    \n",
    "    with open(json_path, 'w') as f:\n",
    "        json.dump(mydict, f)\n",
    "    f.close()"
   ]
  },
  {
   "cell_type": "code",
   "execution_count": 4,
   "metadata": {
    "execution": {
     "iopub.execute_input": "2023-11-08T04:31:26.492123Z",
     "iopub.status.busy": "2023-11-08T04:31:26.491866Z",
     "iopub.status.idle": "2023-11-08T04:31:26.500895Z",
     "shell.execute_reply": "2023-11-08T04:31:26.500195Z",
     "shell.execute_reply.started": "2023-11-08T04:31:26.492093Z"
    }
   },
   "outputs": [],
   "source": [
    "def load_data(json_path):\n",
    "\n",
    "    with open(json_path, 'r') as f:\n",
    "        data = json.load(f)\n",
    "    f.close()\n",
    "\n",
    "    # Let's load our data into numpy arrays for TensorFlow compatibility.\n",
    "    X = np.array(data[\"mfcc\"])\n",
    "    y = np.array(data[\"labels\"])\n",
    "\n",
    "    return X, y"
   ]
  },
  {
   "cell_type": "code",
   "execution_count": 5,
   "metadata": {
    "execution": {
     "iopub.execute_input": "2023-11-08T04:31:26.502630Z",
     "iopub.status.busy": "2023-11-08T04:31:26.502080Z",
     "iopub.status.idle": "2023-11-08T04:31:26.517111Z",
     "shell.execute_reply": "2023-11-08T04:31:26.516241Z",
     "shell.execute_reply.started": "2023-11-08T04:31:26.502591Z"
    }
   },
   "outputs": [],
   "source": [
    "def prepare_datasets(inputs, targets, split_size):\n",
    "    \n",
    "    # Creating a validation set and a test set.\n",
    "    inputs_train, inputs_val, targets_train, targets_val = train_test_split(inputs, targets, test_size=split_size)\n",
    "    inputs_train, inputs_test, targets_train, targets_test = train_test_split(inputs_train, targets_train, test_size=split_size)\n",
    "    \n",
    "    #our lstm model\n",
    "    inputs_train = inputs_train[..., np.newaxis]\n",
    "    inputs_val = inputs_val[..., np.newaxis]\n",
    "    inputs_test = inputs_test[..., np.newaxis]\n",
    "    \n",
    "    return inputs_train, inputs_val, inputs_test, targets_train, targets_val, targets_test"
   ]
  },
  {
   "cell_type": "code",
   "execution_count": 6,
   "metadata": {
    "execution": {
     "iopub.execute_input": "2023-11-08T04:31:26.519396Z",
     "iopub.status.busy": "2023-11-08T04:31:26.518883Z",
     "iopub.status.idle": "2023-11-08T04:31:26.531471Z",
     "shell.execute_reply": "2023-11-08T04:31:26.530800Z",
     "shell.execute_reply.started": "2023-11-08T04:31:26.519348Z"
    }
   },
   "outputs": [],
   "source": [
    "def design_model(input_shape):\n",
    "\n",
    "    # Let's design the model architecture.\n",
    "    model = tf.keras.models.Sequential([\n",
    "        \n",
    "        tf.keras.layers.Conv2D(32, (3,3), activation='relu', input_shape=input_shape),\n",
    "        tf.keras.layers.MaxPooling2D((3,3), strides=(2,2), padding='same'),\n",
    "        tf.keras.layers.BatchNormalization(),\n",
    "        \n",
    "        tf.keras.layers.Conv2D(32, (3,3), activation='relu'),\n",
    "        tf.keras.layers.MaxPooling2D((3,3), strides=(2,2), padding='same'),\n",
    "        tf.keras.layers.BatchNormalization(),\n",
    "        \n",
    "        tf.keras.layers.Conv2D(32, (2,2), activation='relu'),\n",
    "        tf.keras.layers.MaxPooling2D((3,3), strides=(2,2), padding='same'),\n",
    "        tf.keras.layers.BatchNormalization(),\n",
    "        tf.keras.layers.Dropout(0.3),\n",
    "        \n",
    "        tf.keras.layers.Flatten(),\n",
    "        tf.keras.layers.Dense(64, activation='relu'), \n",
    "        tf.keras.layers.Dense(len(np.unique(targets)), activation='softmax')\n",
    "    ])\n",
    "\n",
    "    return model"
   ]
  },
  {
   "cell_type": "code",
   "execution_count": 7,
   "metadata": {
    "execution": {
     "iopub.execute_input": "2023-11-08T04:31:26.533384Z",
     "iopub.status.busy": "2023-11-08T04:31:26.532866Z",
     "iopub.status.idle": "2023-11-08T04:31:26.545175Z",
     "shell.execute_reply": "2023-11-08T04:31:26.544293Z",
     "shell.execute_reply.started": "2023-11-08T04:31:26.533341Z"
    }
   },
   "outputs": [],
   "source": [
    "def make_prediction(model, X, y, idx):\n",
    "    \n",
    "    genre_dict = {\n",
    "        0 : \"blues\",\n",
    "        1 : \"classical\",\n",
    "        2 : \"country\",\n",
    "        3 : \"disco\",\n",
    "        4 : \"hiphop\",\n",
    "        5 : \"jazz\",\n",
    "        6 : \"metal\",\n",
    "        7 : \"pop\",\n",
    "        8 : \"reggae\",\n",
    "        9 : \"rock\",\n",
    "        }\n",
    "        \n",
    "    predictions = model.predict(X)\n",
    "    genre = np.argmax(predictions[idx])\n",
    "    \n",
    "    print(\"\\n---Now testing the model for one audio file---\\nThe model predicts: {}, and ground truth is: {}.\\n\".format(genre_dict[genre], genre_dict[y[idx]]))"
   ]
  },
  {
   "cell_type": "code",
   "execution_count": 8,
   "metadata": {
    "execution": {
     "iopub.execute_input": "2023-11-08T04:31:26.547284Z",
     "iopub.status.busy": "2023-11-08T04:31:26.546689Z",
     "iopub.status.idle": "2023-11-08T04:31:26.562594Z",
     "shell.execute_reply": "2023-11-08T04:31:26.561513Z",
     "shell.execute_reply.started": "2023-11-08T04:31:26.547237Z"
    }
   },
   "outputs": [],
   "source": [
    "def plot_performance(hist):\n",
    "    \n",
    "    acc = hist.history['acc']\n",
    "    val_acc = hist.history['val_acc']\n",
    "    loss = hist.history['loss']\n",
    "    val_loss = hist.history['val_loss']\n",
    "\n",
    "    epochs = range(len(acc))\n",
    "\n",
    "    plt.plot(epochs, acc, 'r', label='Training accuracy')\n",
    "    plt.plot(epochs, val_acc, 'b', label='Validation accuracy')\n",
    "    plt.title('Training and validation accuracy')\n",
    "    plt.legend()\n",
    "    plt.figure()\n",
    "\n",
    "    plt.plot(epochs, loss, 'r', label='Training Loss')\n",
    "    plt.plot(epochs, val_loss, 'b', label='Validation Loss')\n",
    "    plt.title('Training and validation loss')\n",
    "    plt.legend()\n",
    "\n",
    "    plt.show()"
   ]
  },
  {
   "cell_type": "code",
   "execution_count": 9,
   "metadata": {
    "execution": {
     "iopub.execute_input": "2023-11-08T04:31:26.564602Z",
     "iopub.status.busy": "2023-11-08T04:31:26.564264Z",
     "iopub.status.idle": "2023-11-08T04:38:37.529236Z",
     "shell.execute_reply": "2023-11-08T04:38:37.528262Z",
     "shell.execute_reply.started": "2023-11-08T04:31:26.564555Z"
    }
   },
   "outputs": [
    {
     "name": "stderr",
     "output_type": "stream",
     "text": [
      "/opt/conda/lib/python3.7/site-packages/keras/optimizer_v2/optimizer_v2.py:356: UserWarning: The `lr` argument is deprecated, use `learning_rate` instead.\n",
      "  \"The `lr` argument is deprecated, use `learning_rate` instead.\")\n"
     ]
    },
    {
     "name": "stdout",
     "output_type": "stream",
     "text": [
      "Model: \"sequential\"\n",
      "_________________________________________________________________\n",
      "Layer (type)                 Output Shape              Param #   \n",
      "=================================================================\n",
      "conv2d (Conv2D)              (None, 123, 11, 32)       320       \n",
      "_________________________________________________________________\n",
      "max_pooling2d (MaxPooling2D) (None, 62, 6, 32)         0         \n",
      "_________________________________________________________________\n",
      "batch_normalization (BatchNo (None, 62, 6, 32)         128       \n",
      "_________________________________________________________________\n",
      "conv2d_1 (Conv2D)            (None, 60, 4, 32)         9248      \n",
      "_________________________________________________________________\n",
      "max_pooling2d_1 (MaxPooling2 (None, 30, 2, 32)         0         \n",
      "_________________________________________________________________\n",
      "batch_normalization_1 (Batch (None, 30, 2, 32)         128       \n",
      "_________________________________________________________________\n",
      "conv2d_2 (Conv2D)            (None, 29, 1, 32)         4128      \n",
      "_________________________________________________________________\n",
      "max_pooling2d_2 (MaxPooling2 (None, 15, 1, 32)         0         \n",
      "_________________________________________________________________\n",
      "batch_normalization_2 (Batch (None, 15, 1, 32)         128       \n",
      "_________________________________________________________________\n",
      "dropout (Dropout)            (None, 15, 1, 32)         0         \n",
      "_________________________________________________________________\n",
      "flatten (Flatten)            (None, 480)               0         \n",
      "_________________________________________________________________\n",
      "dense (Dense)                (None, 64)                30784     \n",
      "_________________________________________________________________\n",
      "dense_1 (Dense)              (None, 10)                650       \n",
      "=================================================================\n",
      "Total params: 45,514\n",
      "Trainable params: 45,322\n",
      "Non-trainable params: 192\n",
      "_________________________________________________________________\n",
      "Epoch 1/30\n",
      "200/200 [==============================] - 7s 28ms/step - loss: 1.5659 - acc: 0.4417 - val_loss: 1.2989 - val_acc: 0.5235\n",
      "Epoch 2/30\n",
      "200/200 [==============================] - 4s 22ms/step - loss: 1.1673 - acc: 0.5822 - val_loss: 1.0622 - val_acc: 0.6151\n",
      "Epoch 3/30\n",
      "200/200 [==============================] - 4s 21ms/step - loss: 0.9752 - acc: 0.6545 - val_loss: 1.1352 - val_acc: 0.6281\n",
      "Epoch 4/30\n",
      "200/200 [==============================] - 4s 21ms/step - loss: 0.8520 - acc: 0.6961 - val_loss: 1.1161 - val_acc: 0.6436\n",
      "Epoch 5/30\n",
      "200/200 [==============================] - 4s 21ms/step - loss: 0.7836 - acc: 0.7238 - val_loss: 0.8752 - val_acc: 0.7057\n",
      "Epoch 6/30\n",
      "200/200 [==============================] - 4s 22ms/step - loss: 0.7038 - acc: 0.7500 - val_loss: 0.8984 - val_acc: 0.6942\n",
      "Epoch 7/30\n",
      "200/200 [==============================] - 4s 21ms/step - loss: 0.6658 - acc: 0.7680 - val_loss: 0.8072 - val_acc: 0.7252\n",
      "Epoch 8/30\n",
      "200/200 [==============================] - 5s 27ms/step - loss: 0.6024 - acc: 0.7854 - val_loss: 0.8731 - val_acc: 0.7077\n",
      "Epoch 9/30\n",
      "200/200 [==============================] - 4s 22ms/step - loss: 0.5635 - acc: 0.8012 - val_loss: 0.7752 - val_acc: 0.7377\n",
      "Epoch 10/30\n",
      "200/200 [==============================] - 4s 21ms/step - loss: 0.5171 - acc: 0.8198 - val_loss: 0.8272 - val_acc: 0.7372\n",
      "Epoch 11/30\n",
      "200/200 [==============================] - 4s 22ms/step - loss: 0.4862 - acc: 0.8265 - val_loss: 0.8375 - val_acc: 0.7362\n",
      "Epoch 12/30\n",
      "200/200 [==============================] - 4s 21ms/step - loss: 0.4860 - acc: 0.8239 - val_loss: 0.7748 - val_acc: 0.7563\n",
      "Epoch 13/30\n",
      "200/200 [==============================] - 4s 21ms/step - loss: 0.4613 - acc: 0.8314 - val_loss: 0.8494 - val_acc: 0.7252\n",
      "Epoch 14/30\n",
      "200/200 [==============================] - 4s 21ms/step - loss: 0.4105 - acc: 0.8497 - val_loss: 0.7901 - val_acc: 0.7513\n",
      "Epoch 15/30\n",
      "200/200 [==============================] - 4s 21ms/step - loss: 0.3962 - acc: 0.8616 - val_loss: 0.8629 - val_acc: 0.7533\n",
      "Epoch 16/30\n",
      "200/200 [==============================] - 5s 26ms/step - loss: 0.3855 - acc: 0.8619 - val_loss: 0.7671 - val_acc: 0.7618\n",
      "Epoch 17/30\n",
      "200/200 [==============================] - 4s 21ms/step - loss: 0.3596 - acc: 0.8697 - val_loss: 0.7618 - val_acc: 0.7708\n",
      "Epoch 18/30\n",
      "200/200 [==============================] - 4s 20ms/step - loss: 0.3652 - acc: 0.8678 - val_loss: 0.8264 - val_acc: 0.7678\n",
      "Epoch 19/30\n",
      "200/200 [==============================] - 4s 20ms/step - loss: 0.3469 - acc: 0.8742 - val_loss: 0.9525 - val_acc: 0.7487\n",
      "Epoch 20/30\n",
      "200/200 [==============================] - 4s 21ms/step - loss: 0.3260 - acc: 0.8836 - val_loss: 0.8459 - val_acc: 0.7758\n",
      "Epoch 21/30\n",
      "200/200 [==============================] - 4s 21ms/step - loss: 0.3035 - acc: 0.8952 - val_loss: 0.8451 - val_acc: 0.7643\n",
      "Epoch 22/30\n",
      "200/200 [==============================] - 4s 21ms/step - loss: 0.2977 - acc: 0.8949 - val_loss: 0.8093 - val_acc: 0.7648\n",
      "Epoch 23/30\n",
      "200/200 [==============================] - 5s 26ms/step - loss: 0.2853 - acc: 0.8996 - val_loss: 0.8001 - val_acc: 0.7723\n",
      "Epoch 24/30\n",
      "200/200 [==============================] - 4s 21ms/step - loss: 0.2876 - acc: 0.9021 - val_loss: 0.7783 - val_acc: 0.7723\n",
      "Epoch 25/30\n",
      "200/200 [==============================] - 4s 22ms/step - loss: 0.2711 - acc: 0.9011 - val_loss: 0.8255 - val_acc: 0.7833\n",
      "Epoch 26/30\n",
      "200/200 [==============================] - 4s 21ms/step - loss: 0.2822 - acc: 0.9033 - val_loss: 0.7315 - val_acc: 0.7908\n",
      "Epoch 27/30\n",
      "200/200 [==============================] - 4s 21ms/step - loss: 0.2677 - acc: 0.9069 - val_loss: 0.8581 - val_acc: 0.7788\n",
      "Epoch 28/30\n",
      "200/200 [==============================] - 4s 21ms/step - loss: 0.2438 - acc: 0.9118 - val_loss: 0.8360 - val_acc: 0.7718\n",
      "Epoch 29/30\n",
      "200/200 [==============================] - 4s 21ms/step - loss: 0.2618 - acc: 0.9105 - val_loss: 0.9558 - val_acc: 0.7583\n",
      "Epoch 30/30\n",
      "200/200 [==============================] - 5s 27ms/step - loss: 0.2355 - acc: 0.9166 - val_loss: 0.8079 - val_acc: 0.7893\n"
     ]
    },
    {
     "data": {
      "image/png": "[encoded data removed]",
      "text/plain": [
       "<Figure size 432x288 with 1 Axes>"
      ]
     },
     "metadata": {
      "needs_background": "light"
     },
     "output_type": "display_data"
    },
    {
     "data": {
      "image/png": "[encoded data removed]",
      "text/plain": [
       "<Figure size 432x288 with 1 Axes>"
      ]
     },
     "metadata": {
      "needs_background": "light"
     },
     "output_type": "display_data"
    },
    {
     "name": "stdout",
     "output_type": "stream",
     "text": [
      "\n",
      "---Now testing the model for one audio file---\n",
      "The model predicts: country, and ground truth is: country.\n",
      "\n"
     ]
    }
   ],
   "source": [
    "if __name__ == \"__main__\":\n",
    "\n",
    "    preprocess_data(source_path=SOURCE_PATH, json_path=JSON_PATH)\n",
    "    \n",
    "    inputs, targets = load_data(json_path=JSON_PATH)\n",
    "    \n",
    "    Xtrain, Xval, Xtest, ytrain, yval, ytest = prepare_datasets(inputs, targets, 0.2)\n",
    "\n",
    "    input_shape = (Xtrain.shape[1], Xtrain.shape[2], 1)\n",
    "    model = design_model(input_shape)\n",
    "\n",
    "    # Selection of the optimizer, loss type and metrics for performance evaluation.\n",
    "    model.compile(optimizer = tf.keras.optimizers.RMSprop(lr=0.001),\n",
    "                     loss='sparse_categorical_crossentropy',\n",
    "                     metrics = ['acc']\n",
    "                     )\n",
    "\n",
    "    model.summary()\n",
    "\n",
    "    #Training the model.\n",
    "    history = model.fit(Xtrain, ytrain,\n",
    "                        validation_data=(Xval, yval),\n",
    "                        epochs=30,\n",
    "                        batch_size=32\n",
    "                        )\n",
    "\n",
    "    plot_performance(history)\n",
    "\n",
    "    # Testing the model on never seen before data.\n",
    "    make_prediction(model, Xtest, ytest, 24)"
   ]
  },
  {
   "cell_type": "markdown",
   "metadata": {},
   "source": [
    "**The End**"
   ]
  }
 ],
 "metadata": {
  "kernelspec": {
   "display_name": "Python 3 (ipykernel)",
   "language": "python",
   "name": "python3"
  },
  "language_info": {
   "codemirror_mode": {
    "name": "ipython",
    "version": 3
   },
   "file_extension": ".py",
   "mimetype": "text/x-python",
   "name": "python",
   "nbconvert_exporter": "python",
   "pygments_lexer": "ipython3",
   "version": "3.11.5"
  }
 },
 "nbformat": 4,
 "nbformat_minor": 4
}
